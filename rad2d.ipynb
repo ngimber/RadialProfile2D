{
 "cells": [
  {
   "cell_type": "markdown",
   "metadata": {},
   "source": [
    "# Radial Profile Function\n",
    "#### The \"rad2d\" function calculates a radial intensity profile around the center (xc/yc) based on a 2d array (e.g. from single channel images) "
   ]
  },
  {
   "cell_type": "code",
   "execution_count": 7,
   "metadata": {},
   "outputs": [],
   "source": [
    "def rad2d(matrix,xc,yc,radius):#input: onecolor image as 2d array, x and y center , max radius to measure\n",
    "                               #returns: radii, mean intensities\n",
    "    intensities=[]\n",
    "    radii=[]\n",
    "    for x in range(round(xc-radius), round(xc+radius)):\n",
    "        for y in range(round(yc-radius), round(yc+radius)):\n",
    "            if((x<matrix.shape[1])and(y<matrix.shape[0])):\n",
    "\n",
    "                a=round(xc-x)\n",
    "                b=round(yc-y)\n",
    "                pytagoras=((a**2)+(b**2))**0.5 #calculate the distance between the pixel x/y and xc/yc via pytagoras \n",
    "                if (pytagoras<radius):\n",
    "                    radii+=[pytagoras]\n",
    "                    intensities+=[matrix[y][x]] #store the intensity of pixal xy in an array\n",
    "    \n",
    "    radii=np.array(radii,dtype=\"int\") #binning to full pixels\n",
    "    intensities=np.array(intensities)\n",
    "    \n",
    "    #average intensities from pixels with the same radial distance to xy/yc \n",
    "    uniqueRadii=np.unique(np.array(radii))\n",
    "    binnedMeanIntensities=[]\n",
    "    binnedRadii=[]\n",
    "    for u in uniqueRadii:\n",
    "        binnedMeanIntensities+=[intensities[radii==u].mean(axis=0)]\n",
    "        binnedRadii+=[radii[radii==u][0]]\n",
    "    return binnedRadii,binnedMeanIntensities"
   ]
  }
 ],
 "metadata": {
  "kernelspec": {
   "display_name": "Python 3",
   "language": "python",
   "name": "python3"
  },
  "language_info": {
   "codemirror_mode": {
    "name": "ipython",
    "version": 3
   },
   "file_extension": ".py",
   "mimetype": "text/x-python",
   "name": "python",
   "nbconvert_exporter": "python",
   "pygments_lexer": "ipython3",
   "version": "3.5.6"
  }
 },
 "nbformat": 4,
 "nbformat_minor": 2
}
